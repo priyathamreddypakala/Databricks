{
 "cells": [
  {
   "cell_type": "code",
   "execution_count": 0,
   "metadata": {
    "application/vnd.databricks.v1+cell": {
     "cellMetadata": {
      "byteLimit": 2048000,
      "rowLimit": 10000
     },
     "inputWidgets": {},
     "nuid": "63467522-3866-4cf9-8c0a-a455f7fef086",
     "showTitle": false,
     "title": ""
    }
   },
   "outputs": [],
   "source": [
    "# boilerplate\n",
    "\n",
    "from pyspark.sql import *\n",
    "from pyspark.sql.functions import *\n",
    "from pyspark.sql.window import *\n",
    "\n",
    "# create spark session\n",
    "# /Workspace/Users/datakraft867@gmail.com/books.csv\n",
    "spark = SparkSession.builder.appName(\"books_query\").getOrCreate()\n",
    "books_df = spark.read.csv(\"/Volumes/datakraft_batch1/default/datasets/books.csv\", header=True, inferSchema=True)"
   ]
  },
  {
   "cell_type": "code",
   "execution_count": 0,
   "metadata": {
    "application/vnd.databricks.v1+cell": {
     "cellMetadata": {
      "byteLimit": 2048000,
      "rowLimit": 10000
     },
     "inputWidgets": {},
     "nuid": "81ccf891-0ba8-4b73-80f4-63b6f14742d1",
     "showTitle": false,
     "title": ""
    }
   },
   "outputs": [],
   "source": [
    "books_df.createOrReplaceTempView(\"books_tbl\")"
   ]
  },
  {
   "cell_type": "code",
   "execution_count": 0,
   "metadata": {
    "application/vnd.databricks.v1+cell": {
     "cellMetadata": {
      "byteLimit": 2048000,
      "rowLimit": 10000
     },
     "inputWidgets": {},
     "nuid": "4dc6276a-71fe-4fb2-b272-8184245e9fae",
     "showTitle": false,
     "title": ""
    }
   },
   "outputs": [
    {
     "output_type": "execute_result",
     "data": {
      "text/plain": [
       "11127"
      ]
     },
     "execution_count": 26,
     "metadata": {},
     "output_type": "execute_result"
    }
   ],
   "source": [
    "# count the number of rows\n",
    "books_df.count()"
   ]
  },
  {
   "cell_type": "code",
   "execution_count": 0,
   "metadata": {
    "application/vnd.databricks.v1+cell": {
     "cellMetadata": {
      "byteLimit": 2048000,
      "rowLimit": 10000
     },
     "inputWidgets": {},
     "nuid": "08f82177-b9ab-4439-a5f0-d966e300b58d",
     "showTitle": false,
     "title": ""
    }
   },
   "outputs": [
    {
     "output_type": "display_data",
     "data": {
      "text/html": [
       "<style scoped>\n",
       "  .table-result-container {\n",
       "    max-height: 300px;\n",
       "    overflow: auto;\n",
       "  }\n",
       "  table, th, td {\n",
       "    border: 1px solid black;\n",
       "    border-collapse: collapse;\n",
       "  }\n",
       "  th, td {\n",
       "    padding: 5px;\n",
       "  }\n",
       "  th {\n",
       "    text-align: left;\n",
       "  }\n",
       "</style><div class='table-result-container'><table class='table-result'><thead style='background-color: white'><tr><th>num_pages</th><th>authors</th><th>average_rating</th><th>bookID</th><th>isbn</th><th>isbn13</th><th>language_code</th><th>publication_date</th><th>publisher</th><th>ratings_count</th><th>text_reviews_count</th><th>title</th></tr></thead><tbody><tr><td>652</td><td>J.K. Rowling/Mary GrandPré</td><td>4.57</td><td>1</td><td>0439785960</td><td>9780439785969</td><td>eng</td><td>9/16/2006</td><td>Scholastic Inc.</td><td>2095690</td><td>27591</td><td>Harry Potter and the Half-Blood Prince (Harry Potter  #6)</td></tr><tr><td>870</td><td>J.K. Rowling/Mary GrandPré</td><td>4.49</td><td>2</td><td>0439358078</td><td>9780439358071</td><td>eng</td><td>9/1/2004</td><td>Scholastic Inc.</td><td>2153167</td><td>29221</td><td>Harry Potter and the Order of the Phoenix (Harry Potter  #5)</td></tr><tr><td>352</td><td>J.K. Rowling</td><td>4.42</td><td>4</td><td>0439554896</td><td>9780439554893</td><td>eng</td><td>11/1/2003</td><td>Scholastic</td><td>6333</td><td>244</td><td>Harry Potter and the Chamber of Secrets (Harry Potter  #2)</td></tr><tr><td>435</td><td>J.K. Rowling/Mary GrandPré</td><td>4.56</td><td>5</td><td>043965548X</td><td>9780439655484</td><td>eng</td><td>5/1/2004</td><td>Scholastic Inc.</td><td>2339585</td><td>36325</td><td>Harry Potter and the Prisoner of Azkaban (Harry Potter  #3)</td></tr><tr><td>2690</td><td>J.K. Rowling/Mary GrandPré</td><td>4.78</td><td>8</td><td>0439682584</td><td>9780439682589</td><td>eng</td><td>9/13/2004</td><td>Scholastic</td><td>41428</td><td>164</td><td>Harry Potter Boxed Set  Books 1-5 (Harry Potter  #1-5)</td></tr><tr><td>152</td><td>W. Frederick Zimmerman</td><td>3.74</td><td>9</td><td>0976540606</td><td>9780976540601</td><td>en-US</td><td>4/26/2005</td><td>Nimble Books</td><td>19</td><td>1</td><td>Unauthorized Harry Potter Book Seven News: Half-Blood Prince Analysis and Speculation</td></tr><tr><td>3342</td><td>J.K. Rowling</td><td>4.73</td><td>10</td><td>0439827604</td><td>9780439827607</td><td>eng</td><td>9/12/2005</td><td>Scholastic</td><td>28242</td><td>808</td><td>Harry Potter Collection (Harry Potter  #1-6)</td></tr><tr><td>815</td><td>Douglas Adams</td><td>4.38</td><td>12</td><td>0517226952</td><td>9780517226957</td><td>eng</td><td>11/1/2005</td><td>Gramercy Books</td><td>3628</td><td>254</td><td>The Ultimate Hitchhiker's Guide: Five Complete Novels and One Story (Hitchhiker's Guide to the Galaxy  #1-5)</td></tr><tr><td>815</td><td>Douglas Adams</td><td>4.38</td><td>13</td><td>0345453743</td><td>9780345453747</td><td>eng</td><td>4/30/2002</td><td>Del Rey Books</td><td>249558</td><td>4080</td><td>The Ultimate Hitchhiker's Guide to the Galaxy (Hitchhiker's Guide to the Galaxy  #1-5)</td></tr><tr><td>215</td><td>Douglas Adams</td><td>4.22</td><td>14</td><td>1400052920</td><td>9781400052929</td><td>eng</td><td>8/3/2004</td><td>Crown</td><td>4930</td><td>460</td><td>The Hitchhiker's Guide to the Galaxy (Hitchhiker's Guide to the Galaxy  #1)</td></tr></tbody></table></div>"
      ]
     },
     "metadata": {
      "application/vnd.databricks.v1+output": {
       "addedWidgets": {},
       "aggData": [],
       "aggError": "",
       "aggOverflow": false,
       "aggSchema": [],
       "aggSeriesLimitReached": false,
       "aggType": "",
       "arguments": {},
       "columnCustomDisplayInfos": {},
       "data": [
        [
         "652",
         "J.K. Rowling/Mary GrandPré",
         "4.57",
         1,
         "0439785960",
         "9780439785969",
         "eng",
         "9/16/2006",
         "Scholastic Inc.",
         2095690,
         27591,
         "Harry Potter and the Half-Blood Prince (Harry Potter  #6)"
        ],
        [
         "870",
         "J.K. Rowling/Mary GrandPré",
         "4.49",
         2,
         "0439358078",
         "9780439358071",
         "eng",
         "9/1/2004",
         "Scholastic Inc.",
         2153167,
         29221,
         "Harry Potter and the Order of the Phoenix (Harry Potter  #5)"
        ],
        [
         "352",
         "J.K. Rowling",
         "4.42",
         4,
         "0439554896",
         "9780439554893",
         "eng",
         "11/1/2003",
         "Scholastic",
         6333,
         244,
         "Harry Potter and the Chamber of Secrets (Harry Potter  #2)"
        ],
        [
         "435",
         "J.K. Rowling/Mary GrandPré",
         "4.56",
         5,
         "043965548X",
         "9780439655484",
         "eng",
         "5/1/2004",
         "Scholastic Inc.",
         2339585,
         36325,
         "Harry Potter and the Prisoner of Azkaban (Harry Potter  #3)"
        ],
        [
         "2690",
         "J.K. Rowling/Mary GrandPré",
         "4.78",
         8,
         "0439682584",
         "9780439682589",
         "eng",
         "9/13/2004",
         "Scholastic",
         41428,
         164,
         "Harry Potter Boxed Set  Books 1-5 (Harry Potter  #1-5)"
        ],
        [
         "152",
         "W. Frederick Zimmerman",
         "3.74",
         9,
         "0976540606",
         "9780976540601",
         "en-US",
         "4/26/2005",
         "Nimble Books",
         19,
         1,
         "Unauthorized Harry Potter Book Seven News: Half-Blood Prince Analysis and Speculation"
        ],
        [
         "3342",
         "J.K. Rowling",
         "4.73",
         10,
         "0439827604",
         "9780439827607",
         "eng",
         "9/12/2005",
         "Scholastic",
         28242,
         808,
         "Harry Potter Collection (Harry Potter  #1-6)"
        ],
        [
         "815",
         "Douglas Adams",
         "4.38",
         12,
         "0517226952",
         "9780517226957",
         "eng",
         "11/1/2005",
         "Gramercy Books",
         3628,
         254,
         "The Ultimate Hitchhiker's Guide: Five Complete Novels and One Story (Hitchhiker's Guide to the Galaxy  #1-5)"
        ],
        [
         "815",
         "Douglas Adams",
         "4.38",
         13,
         "0345453743",
         "9780345453747",
         "eng",
         "4/30/2002",
         "Del Rey Books",
         249558,
         4080,
         "The Ultimate Hitchhiker's Guide to the Galaxy (Hitchhiker's Guide to the Galaxy  #1-5)"
        ],
        [
         "215",
         "Douglas Adams",
         "4.22",
         14,
         "1400052920",
         "9781400052929",
         "eng",
         "8/3/2004",
         "Crown",
         4930,
         460,
         "The Hitchhiker's Guide to the Galaxy (Hitchhiker's Guide to the Galaxy  #1)"
        ]
       ],
       "datasetInfos": [],
       "dbfsResultPath": null,
       "isJsonSchema": true,
       "metadata": {},
       "overflow": false,
       "plotOptions": {
        "customPlotOptions": {},
        "displayType": "table",
        "pivotAggregation": null,
        "pivotColumns": null,
        "xColumns": null,
        "yColumns": null
       },
       "removedWidgets": [],
       "schema": [
        {
         "metadata": "{}",
         "name": "num_pages",
         "type": "\"string\""
        },
        {
         "metadata": "{}",
         "name": "authors",
         "type": "\"string\""
        },
        {
         "metadata": "{}",
         "name": "average_rating",
         "type": "\"string\""
        },
        {
         "metadata": "{}",
         "name": "bookID",
         "type": "\"integer\""
        },
        {
         "metadata": "{}",
         "name": "isbn",
         "type": "\"string\""
        },
        {
         "metadata": "{}",
         "name": "isbn13",
         "type": "\"string\""
        },
        {
         "metadata": "{}",
         "name": "language_code",
         "type": "\"string\""
        },
        {
         "metadata": "{}",
         "name": "publication_date",
         "type": "\"string\""
        },
        {
         "metadata": "{}",
         "name": "publisher",
         "type": "\"string\""
        },
        {
         "metadata": "{}",
         "name": "ratings_count",
         "type": "\"integer\""
        },
        {
         "metadata": "{}",
         "name": "text_reviews_count",
         "type": "\"integer\""
        },
        {
         "metadata": "{}",
         "name": "title",
         "type": "\"string\""
        }
       ],
       "type": "table"
      }
     },
     "output_type": "display_data"
    }
   ],
   "source": [
    "# display top 10 rows\n",
    "display(books_df.limit(10))\n"
   ]
  },
  {
   "cell_type": "code",
   "execution_count": 0,
   "metadata": {
    "application/vnd.databricks.v1+cell": {
     "cellMetadata": {
      "byteLimit": 2048000,
      "rowLimit": 10000
     },
     "inputWidgets": {},
     "nuid": "225dfeeb-9f52-4683-8724-963f1e7a2392",
     "showTitle": false,
     "title": ""
    }
   },
   "outputs": [
    {
     "output_type": "stream",
     "name": "stdout",
     "output_type": "stream",
     "text": [
      "+---------+--------------------+--------------+------+----------+-------------+-------------+----------------+---------------+-------------+------------------+--------------------+\n|num_pages|             authors|average_rating|bookID|      isbn|       isbn13|language_code|publication_date|      publisher|ratings_count|text_reviews_count|               title|\n+---------+--------------------+--------------+------+----------+-------------+-------------+----------------+---------------+-------------+------------------+--------------------+\n|      652|J.K. Rowling/Mary...|          4.57|     1|0439785960|9780439785969|          eng|       9/16/2006|Scholastic Inc.|      2095690|             27591|Harry Potter and ...|\n|      870|J.K. Rowling/Mary...|          4.49|     2|0439358078|9780439358071|          eng|        9/1/2004|Scholastic Inc.|      2153167|             29221|Harry Potter and ...|\n|      352|        J.K. Rowling|          4.42|     4|0439554896|9780439554893|          eng|       11/1/2003|     Scholastic|         6333|               244|Harry Potter and ...|\n|      435|J.K. Rowling/Mary...|          4.56|     5|043965548X|9780439655484|          eng|        5/1/2004|Scholastic Inc.|      2339585|             36325|Harry Potter and ...|\n|     2690|J.K. Rowling/Mary...|          4.78|     8|0439682584|9780439682589|          eng|       9/13/2004|     Scholastic|        41428|               164|Harry Potter Boxe...|\n|      152|W. Frederick Zimm...|          3.74|     9|0976540606|9780976540601|        en-US|       4/26/2005|   Nimble Books|           19|                 1|Unauthorized Harr...|\n|     3342|        J.K. Rowling|          4.73|    10|0439827604|9780439827607|          eng|       9/12/2005|     Scholastic|        28242|               808|Harry Potter Coll...|\n|      815|       Douglas Adams|          4.38|    12|0517226952|9780517226957|          eng|       11/1/2005| Gramercy Books|         3628|               254|The Ultimate Hitc...|\n|      815|       Douglas Adams|          4.38|    13|0345453743|9780345453747|          eng|       4/30/2002|  Del Rey Books|       249558|              4080|The Ultimate Hitc...|\n|      215|       Douglas Adams|          4.22|    14|1400052920|9781400052929|          eng|        8/3/2004|          Crown|         4930|               460|The Hitchhiker's ...|\n+---------+--------------------+--------------+------+----------+-------------+-------------+----------------+---------------+-------------+------------------+--------------------+\nonly showing top 10 rows\n\n"
     ]
    }
   ],
   "source": [
    "books_df.show(10)"
   ]
  },
  {
   "cell_type": "code",
   "execution_count": 0,
   "metadata": {
    "application/vnd.databricks.v1+cell": {
     "cellMetadata": {
      "byteLimit": 2048000,
      "rowLimit": 10000
     },
     "inputWidgets": {},
     "nuid": "ef23069e-0222-4715-97f4-cd7623889f21",
     "showTitle": false,
     "title": ""
    }
   },
   "outputs": [
    {
     "output_type": "stream",
     "name": "stdout",
     "output_type": "stream",
     "text": [
      "+---------+\n|books_cnt|\n+---------+\n|    11127|\n+---------+\n\n"
     ]
    }
   ],
   "source": [
    "# How many total books are present in the database?\n",
    "books_cnt = spark.sql(\\\n",
    "    f\"\"\"\n",
    "    SELECT COUNT(isbn) as books_cnt FROM books_tbl\n",
    "    \"\"\").show()"
   ]
  },
  {
   "cell_type": "code",
   "execution_count": 0,
   "metadata": {
    "application/vnd.databricks.v1+cell": {
     "cellMetadata": {
      "byteLimit": 2048000,
      "rowLimit": 10000
     },
     "inputWidgets": {},
     "nuid": "5a695bc0-a51a-4bcb-a615-9d6863c4413a",
     "showTitle": false,
     "title": ""
    }
   },
   "outputs": [
    {
     "output_type": "stream",
     "name": "stdout",
     "output_type": "stream",
     "text": [
      "root\n |-- num_pages: integer (nullable = true)\n |-- authors: string (nullable = true)\n |-- average_rating: string (nullable = true)\n |-- bookID: integer (nullable = true)\n |-- isbn: string (nullable = true)\n |-- isbn13: string (nullable = true)\n |-- language_code: string (nullable = true)\n |-- publication_date: string (nullable = true)\n |-- publisher: string (nullable = true)\n |-- ratings_count: integer (nullable = true)\n |-- text_reviews_count: integer (nullable = true)\n |-- title: string (nullable = true)\n\n+--------------+\n|sum(num_pages)|\n+--------------+\n|        6865.0|\n+--------------+\n\n"
     ]
    }
   ],
   "source": [
    "# what is the total page count of all books published by Bill Bryson?\n",
    "# cast num_pages to integer\n",
    "books_df = books_df.withColumn(\"num_pages\", col(\"num_pages\").cast(\"integer\"))\n",
    "# verify\n",
    "books_df.printSchema()\n",
    "# sql\n",
    "tot_pg_bb = spark.sql(\\\n",
    "    f\"\"\"\n",
    "    SELECT SUM(num_pages)\n",
    "    FROM books_tbl\n",
    "    WHERE authors = \"Bill Bryson\"\n",
    "    \"\"\").show()"
   ]
  },
  {
   "cell_type": "code",
   "execution_count": 0,
   "metadata": {
    "application/vnd.databricks.v1+cell": {
     "cellMetadata": {
      "byteLimit": 2048000,
      "rowLimit": 10000
     },
     "inputWidgets": {},
     "nuid": "30b98d58-c0d3-44ea-94b5-0eb44cdd1c96",
     "showTitle": false,
     "title": ""
    }
   },
   "outputs": [
    {
     "output_type": "stream",
     "name": "stdout",
     "output_type": "stream",
     "text": [
      "+----+----------+\n|  yr|avg_rating|\n+----+----------+\n|1943|      4.21|\n+----+----------+\n\n"
     ]
    }
   ],
   "source": [
    "# for books published in 1943, what is the average book rating?\n",
    "# extract year from year from publication date\n",
    "avg_rating = spark.sql(\\\n",
    "  f\"\"\"\n",
    "  WITH CTE AS (\n",
    "  SELECT \n",
    "  CAST(RIGHT(publication_date, 4) AS INT) AS yr,\n",
    "  ROUND(AVG(average_rating),2) AS avg_rating\n",
    "  FROM books_tbl\n",
    "  GROUP BY 1\n",
    "  ORDER BY 1\n",
    "  )\n",
    "\n",
    "  SELECT yr, avg_rating FROM CTE WHERE yr = 1943;\n",
    "  \"\"\").show()"
   ]
  },
  {
   "cell_type": "code",
   "execution_count": 0,
   "metadata": {
    "application/vnd.databricks.v1+cell": {
     "cellMetadata": {
      "byteLimit": 2048000,
      "rowLimit": 10000
     },
     "inputWidgets": {},
     "nuid": "a860d7a5-2321-44ab-b9f1-171bb6eb0620",
     "showTitle": false,
     "title": ""
    }
   },
   "outputs": [
    {
     "output_type": "display_data",
     "data": {
      "text/html": [
       "<style scoped>\n",
       "  .table-result-container {\n",
       "    max-height: 300px;\n",
       "    overflow: auto;\n",
       "  }\n",
       "  table, th, td {\n",
       "    border: 1px solid black;\n",
       "    border-collapse: collapse;\n",
       "  }\n",
       "  th, td {\n",
       "    padding: 5px;\n",
       "  }\n",
       "  th {\n",
       "    text-align: left;\n",
       "  }\n",
       "</style><div class='table-result-container'><table class='table-result'><thead style='background-color: white'><tr><th>publisher</th><th>title</th><th>yr</th></tr></thead><tbody><tr><td>Oxford University Press</td><td>War and Peace</td><td>1998</td></tr><tr><td>Oxford University Press</td><td>The Histories</td><td>1998</td></tr><tr><td>Oxford University Press</td><td>Antigone; Oedipus the Kingn; Electra</td><td>1998</td></tr><tr><td>Oxford University Press  USA</td><td>Moby Dick: or The White Whale (Oxford Illustrated Classics)</td><td>1998</td></tr><tr><td>Oxford University Press</td><td>The Bostonians</td><td>1998</td></tr><tr><td>Oxford University Press</td><td>The Canterbury Tales</td><td>1998</td></tr><tr><td>Oxford University Press</td><td>Waverley</td><td>1998</td></tr><tr><td>Oxford University Press</td><td>The Karamazov Brothers</td><td>1998</td></tr><tr><td>Oxford University Press</td><td>The Castle of Otranto</td><td>1998</td></tr><tr><td>Oxford University Press  USA</td><td>Faust  Part One</td><td>1998</td></tr><tr><td>Oxford University Press</td><td>Daisy Miller and Other Stories</td><td>1998</td></tr><tr><td>Oxford University Press</td><td>Doctor Faustus and Other Plays</td><td>1998</td></tr><tr><td>Oxford University Press</td><td>Complete Shorter Fiction</td><td>1998</td></tr><tr><td>Oxford University Press</td><td>Selected Philosophical Writings</td><td>1998</td></tr><tr><td>Oxford University Press</td><td>Eugene Onegin</td><td>1998</td></tr><tr><td>Oxford University Press</td><td>Exemplary Stories</td><td>1998</td></tr><tr><td>Oxford University Press</td><td>A Philosophical Enquiry into the Origin of our Ideas of the Sublime and Beautiful</td><td>1998</td></tr><tr><td>Oxford University Press  USA</td><td>The Philosophy of Biology</td><td>1998</td></tr><tr><td>Oxford University Press</td><td>The Divine Comedy</td><td>1998</td></tr><tr><td>Oxford University Press  USA</td><td>The Call of the Wild  White Fang and Other Stories</td><td>1998</td></tr><tr><td>Oxford University Press</td><td>No Name</td><td>1998</td></tr></tbody></table></div>"
      ]
     },
     "metadata": {
      "application/vnd.databricks.v1+output": {
       "addedWidgets": {},
       "aggData": [],
       "aggError": "",
       "aggOverflow": false,
       "aggSchema": [],
       "aggSeriesLimitReached": false,
       "aggType": "",
       "arguments": {},
       "columnCustomDisplayInfos": {},
       "data": [
        [
         "Oxford University Press",
         "War and Peace",
         1998
        ],
        [
         "Oxford University Press",
         "The Histories",
         1998
        ],
        [
         "Oxford University Press",
         "Antigone; Oedipus the Kingn; Electra",
         1998
        ],
        [
         "Oxford University Press  USA",
         "Moby Dick: or The White Whale (Oxford Illustrated Classics)",
         1998
        ],
        [
         "Oxford University Press",
         "The Bostonians",
         1998
        ],
        [
         "Oxford University Press",
         "The Canterbury Tales",
         1998
        ],
        [
         "Oxford University Press",
         "Waverley",
         1998
        ],
        [
         "Oxford University Press",
         "The Karamazov Brothers",
         1998
        ],
        [
         "Oxford University Press",
         "The Castle of Otranto",
         1998
        ],
        [
         "Oxford University Press  USA",
         "Faust  Part One",
         1998
        ],
        [
         "Oxford University Press",
         "Daisy Miller and Other Stories",
         1998
        ],
        [
         "Oxford University Press",
         "Doctor Faustus and Other Plays",
         1998
        ],
        [
         "Oxford University Press",
         "Complete Shorter Fiction",
         1998
        ],
        [
         "Oxford University Press",
         "Selected Philosophical Writings",
         1998
        ],
        [
         "Oxford University Press",
         "Eugene Onegin",
         1998
        ],
        [
         "Oxford University Press",
         "Exemplary Stories",
         1998
        ],
        [
         "Oxford University Press",
         "A Philosophical Enquiry into the Origin of our Ideas of the Sublime and Beautiful",
         1998
        ],
        [
         "Oxford University Press  USA",
         "The Philosophy of Biology",
         1998
        ],
        [
         "Oxford University Press",
         "The Divine Comedy",
         1998
        ],
        [
         "Oxford University Press  USA",
         "The Call of the Wild  White Fang and Other Stories",
         1998
        ],
        [
         "Oxford University Press",
         "No Name",
         1998
        ]
       ],
       "datasetInfos": [],
       "dbfsResultPath": null,
       "isJsonSchema": true,
       "metadata": {},
       "overflow": false,
       "plotOptions": {
        "customPlotOptions": {},
        "displayType": "table",
        "pivotAggregation": null,
        "pivotColumns": null,
        "xColumns": null,
        "yColumns": null
       },
       "removedWidgets": [],
       "schema": [
        {
         "metadata": "{}",
         "name": "publisher",
         "type": "\"string\""
        },
        {
         "metadata": "{}",
         "name": "title",
         "type": "\"string\""
        },
        {
         "metadata": "{}",
         "name": "yr",
         "type": "\"integer\""
        }
       ],
       "type": "table"
      }
     },
     "output_type": "display_data"
    }
   ],
   "source": [
    "# Oxford University Press and published in 2002, list the books? \n",
    "\n",
    "publisher = spark.sql(\\\n",
    "f\"\"\"\n",
    "WITH CTE AS (\n",
    "SELECT publisher, title,\n",
    "CAST(RIGHT(publication_date, 4) AS INT) AS yr\n",
    "FROM books_tbl\n",
    ")\n",
    "SELECT * FROM CTE WHERE yr = 1998 and publisher like '%Oxford University Press%';\n",
    "\"\"\").display()"
   ]
  },
  {
   "cell_type": "code",
   "execution_count": 0,
   "metadata": {
    "application/vnd.databricks.v1+cell": {
     "cellMetadata": {
      "byteLimit": 2048000,
      "implicitDf": true,
      "rowLimit": 10000
     },
     "inputWidgets": {},
     "nuid": "852b2510-ed7a-4390-af87-800f47293995",
     "showTitle": false,
     "title": ""
    }
   },
   "outputs": [
    {
     "output_type": "display_data",
     "data": {
      "text/html": [
       "<style scoped>\n",
       "  .table-result-container {\n",
       "    max-height: 300px;\n",
       "    overflow: auto;\n",
       "  }\n",
       "  table, th, td {\n",
       "    border: 1px solid black;\n",
       "    border-collapse: collapse;\n",
       "  }\n",
       "  th, td {\n",
       "    padding: 5px;\n",
       "  }\n",
       "  th {\n",
       "    text-align: left;\n",
       "  }\n",
       "</style><div class='table-result-container'><table class='table-result'><thead style='background-color: white'><tr><th>publisher</th><th>book_title</th><th>rating</th></tr></thead><tbody><tr><td>Academica Press</td><td>The Irish Anatomist: A Study of Flann O'Brien</td><td>5.00</td></tr><tr><td>Arcadia Publishing</td><td>Middlesex Borough (Images of America: New Jersey)</td><td>5.00</td></tr><tr><td>BBC Physical Audio</td><td>The Goon Show  Volume 11: He's Fallen in the Water!</td><td>5.00</td></tr><tr><td>BBC Physical Audio</td><td>The Goon Show  Volume 4: My Knees Have Fallen Off!</td><td>5.00</td></tr><tr><td>Boosey & Hawkes Inc</td><td>The Complete Theory Fun Factory: Music Theory Puzzles and Games for the Early Grades</td><td>5.00</td></tr><tr><td>BradyGames</td><td>Zone of the Enders: The 2nd Runner Official Strategy Guide</td><td>5.00</td></tr><tr><td>Chartwell Books</td><td>Winchester Shotguns</td><td>5.00</td></tr><tr><td>Courage Books</td><td>The New Big Book of America</td><td>5.00</td></tr><tr><td>Disney Press</td><td>Tyrannosaurus Wrecks (Stanley  #1)</td><td>5.00</td></tr><tr><td>Multnomah</td><td>His Princess Devotional: A Royal Encounter With Your King</td><td>5.00</td></tr><tr><td>Oxford University Press  USA</td><td>Comoediae 1: Acharenses/Equites/Nubes/Vespae/Pax/Aves</td><td>5.00</td></tr><tr><td>Oxford University Press  USA</td><td>Taxation of Mineral Rents</td><td>5.00</td></tr><tr><td>Raintree</td><td>Bill Gates: Computer Legend (Famous Lives)</td><td>5.00</td></tr><tr><td>Schirmer Mosel</td><td>Willem de Kooning: Late Paintings</td><td>5.00</td></tr><tr><td>Square One Publishers</td><td>The Diamond Color Meditation: Color Pathway to the Soul</td><td>5.00</td></tr><tr><td>T&T Clark Int'l</td><td>Colossians and Philemon: A Critical and Exegetical Commentary (International Critical Commentary)</td><td>5.00</td></tr><tr><td>Teaching Resources</td><td>Literature Circle Guide: Bridge to Terabithia: Everything You Need For Successful Literature Circles That Get Kids Thinking  Talking  Writing—and Loving Literature</td><td>5.00</td></tr><tr><td>Texas A&M University Press</td><td>The American Campaign: U.S. Presidential Campaigns and the National Vote</td><td>5.00</td></tr><tr><td>University Press of New England</td><td>Oliver Wendell Holmes in Paris: Medicine  Theology  and the Autocrat of the Breakfast Table</td><td>5.00</td></tr><tr><td>Vantage Press</td><td>Bulgakov's the Master and Margarita: The Text as a Cipher</td><td>5.00</td></tr><tr><td>Y Lolfa</td><td>Delwau Duon: Peintiadau Nicholas Evans = Symphonies in Black: The Paintings of Nicholas Evans</td><td>5.00</td></tr><tr><td>Zondervan</td><td>Fanning the Flame: Bible  Cross  and Mission</td><td>5.00</td></tr></tbody></table></div>"
      ]
     },
     "metadata": {
      "application/vnd.databricks.v1+output": {
       "addedWidgets": {},
       "aggData": [],
       "aggError": "",
       "aggOverflow": false,
       "aggSchema": [],
       "aggSeriesLimitReached": false,
       "aggType": "",
       "arguments": {},
       "columnCustomDisplayInfos": {},
       "data": [
        [
         "Academica Press",
         "The Irish Anatomist: A Study of Flann O'Brien",
         "5.00"
        ],
        [
         "Arcadia Publishing",
         "Middlesex Borough (Images of America: New Jersey)",
         "5.00"
        ],
        [
         "BBC Physical Audio",
         "The Goon Show  Volume 11: He's Fallen in the Water!",
         "5.00"
        ],
        [
         "BBC Physical Audio",
         "The Goon Show  Volume 4: My Knees Have Fallen Off!",
         "5.00"
        ],
        [
         "Boosey & Hawkes Inc",
         "The Complete Theory Fun Factory: Music Theory Puzzles and Games for the Early Grades",
         "5.00"
        ],
        [
         "BradyGames",
         "Zone of the Enders: The 2nd Runner Official Strategy Guide",
         "5.00"
        ],
        [
         "Chartwell Books",
         "Winchester Shotguns",
         "5.00"
        ],
        [
         "Courage Books",
         "The New Big Book of America",
         "5.00"
        ],
        [
         "Disney Press",
         "Tyrannosaurus Wrecks (Stanley  #1)",
         "5.00"
        ],
        [
         "Multnomah",
         "His Princess Devotional: A Royal Encounter With Your King",
         "5.00"
        ],
        [
         "Oxford University Press  USA",
         "Comoediae 1: Acharenses/Equites/Nubes/Vespae/Pax/Aves",
         "5.00"
        ],
        [
         "Oxford University Press  USA",
         "Taxation of Mineral Rents",
         "5.00"
        ],
        [
         "Raintree",
         "Bill Gates: Computer Legend (Famous Lives)",
         "5.00"
        ],
        [
         "Schirmer Mosel",
         "Willem de Kooning: Late Paintings",
         "5.00"
        ],
        [
         "Square One Publishers",
         "The Diamond Color Meditation: Color Pathway to the Soul",
         "5.00"
        ],
        [
         "T&T Clark Int'l",
         "Colossians and Philemon: A Critical and Exegetical Commentary (International Critical Commentary)",
         "5.00"
        ],
        [
         "Teaching Resources",
         "Literature Circle Guide: Bridge to Terabithia: Everything You Need For Successful Literature Circles That Get Kids Thinking  Talking  Writing—and Loving Literature",
         "5.00"
        ],
        [
         "Texas A&M University Press",
         "The American Campaign: U.S. Presidential Campaigns and the National Vote",
         "5.00"
        ],
        [
         "University Press of New England",
         "Oliver Wendell Holmes in Paris: Medicine  Theology  and the Autocrat of the Breakfast Table",
         "5.00"
        ],
        [
         "Vantage Press",
         "Bulgakov's the Master and Margarita: The Text as a Cipher",
         "5.00"
        ],
        [
         "Y Lolfa",
         "Delwau Duon: Peintiadau Nicholas Evans = Symphonies in Black: The Paintings of Nicholas Evans",
         "5.00"
        ],
        [
         "Zondervan",
         "Fanning the Flame: Bible  Cross  and Mission",
         "5.00"
        ]
       ],
       "datasetInfos": [],
       "dbfsResultPath": null,
       "isJsonSchema": true,
       "metadata": {},
       "overflow": false,
       "plotOptions": {
        "customPlotOptions": {},
        "displayType": "table",
        "pivotAggregation": null,
        "pivotColumns": null,
        "xColumns": null,
        "yColumns": null
       },
       "removedWidgets": [],
       "schema": [
        {
         "metadata": "{}",
         "name": "publisher",
         "type": "\"string\""
        },
        {
         "metadata": "{}",
         "name": "book_title",
         "type": "\"string\""
        },
        {
         "metadata": "{}",
         "name": "rating",
         "type": "\"string\""
        }
       ],
       "type": "table"
      }
     },
     "output_type": "display_data"
    }
   ],
   "source": [
    "#Which publisher had the books with the highest rating; # publisher, book_title, rating\n",
    "rating = spark.sql(\\\n",
    "    f\"\"\"\n",
    "    SELECT publisher,title as book_title, average_rating as rating\n",
    "    from books_tbl\n",
    "WHERE 1=1\n",
    "AND average_rating = (SELECT MAX(average_rating) FROM books_tbl)\n",
    " ORDER BY 1, 2\n",
    "    \"\"\").display()\n",
    "     \n"
   ]
  },
  {
   "cell_type": "code",
   "execution_count": 0,
   "metadata": {
    "application/vnd.databricks.v1+cell": {
     "cellMetadata": {
      "byteLimit": 2048000,
      "rowLimit": 10000
     },
     "inputWidgets": {},
     "nuid": "4738b83e-5814-4b14-8c22-3cca9e018723",
     "showTitle": false,
     "title": ""
    }
   },
   "outputs": [
    {
     "output_type": "display_data",
     "data": {
      "text/html": [
       "<style scoped>\n",
       "  .table-result-container {\n",
       "    max-height: 300px;\n",
       "    overflow: auto;\n",
       "  }\n",
       "  table, th, td {\n",
       "    border: 1px solid black;\n",
       "    border-collapse: collapse;\n",
       "  }\n",
       "  th, td {\n",
       "    padding: 5px;\n",
       "  }\n",
       "  th {\n",
       "    text-align: left;\n",
       "  }\n",
       "</style><div class='table-result-container'><table class='table-result'><thead style='background-color: white'><tr><th>authors</th><th>count(title)</th><th>title</th><th>publication_date</th></tr></thead><tbody><tr><td>Dan Brown</td><td>1</td><td>Angels & Demons (Robert Langdon  #1)</td><td>7/28/2003</td></tr><tr><td>Dan Brown</td><td>1</td><td>Angels & Demons (Robert Langdon  #1)</td><td>5/3/2005</td></tr><tr><td>Dan Brown</td><td>1</td><td>Angels & Demons (Robert Langdon  #1)</td><td>4/1/2006</td></tr><tr><td>Dan Brown</td><td>1</td><td>Deception Point</td><td>8/1/2005</td></tr><tr><td>Dan Brown</td><td>1</td><td>Deception Point</td><td>5/1/2004</td></tr><tr><td>Dan Brown</td><td>1</td><td>Deception Point</td><td>4/1/2006</td></tr><tr><td>Dan Brown</td><td>2</td><td>The Da Vinci Code</td><td>3/28/2006</td></tr><tr><td>Dan Brown</td><td>2</td><td>The Da Vinci Code (Robert Langdon  #2)</td><td>3/28/2006</td></tr><tr><td>Dan Brown</td><td>1</td><td>The Da Vinci Code (Robert Langdon  #2)</td><td>3/18/2003</td></tr><tr><td>Dan Brown</td><td>1</td><td>Ángeles y demonios (Robert Langdon  #1)</td><td>12/1/2005</td></tr><tr><td>Dan Brown/Daniel Roche</td><td>1</td><td>Da Vinci Code (Robert Langdon  #2)</td><td>5/3/2005</td></tr><tr><td>Dan Brown/Eduardo García Murillo</td><td>1</td><td>La fortaleza digital</td><td>2/1/2006</td></tr><tr><td>Dan Brown/Juanjo Estrella</td><td>1</td><td>El código Da Vinci (Robert Langdon  #2)</td><td>10/17/2003</td></tr><tr><td>Dan Brown/Paul Michael</td><td>1</td><td>The Da Vinci Code (Robert Langdon  #2)</td><td>3/28/2006</td></tr><tr><td>Dan Brown/Raúl Amundaray</td><td>1</td><td>Angeles & Demonios</td><td>12/1/2005</td></tr></tbody></table></div>"
      ]
     },
     "metadata": {
      "application/vnd.databricks.v1+output": {
       "addedWidgets": {},
       "aggData": [],
       "aggError": "",
       "aggOverflow": false,
       "aggSchema": [],
       "aggSeriesLimitReached": false,
       "aggType": "",
       "arguments": {},
       "columnCustomDisplayInfos": {},
       "data": [
        [
         "Dan Brown",
         1,
         "Angels & Demons (Robert Langdon  #1)",
         "7/28/2003"
        ],
        [
         "Dan Brown",
         1,
         "Angels & Demons (Robert Langdon  #1)",
         "5/3/2005"
        ],
        [
         "Dan Brown",
         1,
         "Angels & Demons (Robert Langdon  #1)",
         "4/1/2006"
        ],
        [
         "Dan Brown",
         1,
         "Deception Point",
         "8/1/2005"
        ],
        [
         "Dan Brown",
         1,
         "Deception Point",
         "5/1/2004"
        ],
        [
         "Dan Brown",
         1,
         "Deception Point",
         "4/1/2006"
        ],
        [
         "Dan Brown",
         2,
         "The Da Vinci Code",
         "3/28/2006"
        ],
        [
         "Dan Brown",
         2,
         "The Da Vinci Code (Robert Langdon  #2)",
         "3/28/2006"
        ],
        [
         "Dan Brown",
         1,
         "The Da Vinci Code (Robert Langdon  #2)",
         "3/18/2003"
        ],
        [
         "Dan Brown",
         1,
         "Ángeles y demonios (Robert Langdon  #1)",
         "12/1/2005"
        ],
        [
         "Dan Brown/Daniel Roche",
         1,
         "Da Vinci Code (Robert Langdon  #2)",
         "5/3/2005"
        ],
        [
         "Dan Brown/Eduardo García Murillo",
         1,
         "La fortaleza digital",
         "2/1/2006"
        ],
        [
         "Dan Brown/Juanjo Estrella",
         1,
         "El código Da Vinci (Robert Langdon  #2)",
         "10/17/2003"
        ],
        [
         "Dan Brown/Paul Michael",
         1,
         "The Da Vinci Code (Robert Langdon  #2)",
         "3/28/2006"
        ],
        [
         "Dan Brown/Raúl Amundaray",
         1,
         "Angeles & Demonios",
         "12/1/2005"
        ]
       ],
       "datasetInfos": [],
       "dbfsResultPath": null,
       "isJsonSchema": true,
       "metadata": {},
       "overflow": false,
       "plotOptions": {
        "customPlotOptions": {},
        "displayType": "table",
        "pivotAggregation": null,
        "pivotColumns": null,
        "xColumns": null,
        "yColumns": null
       },
       "removedWidgets": [],
       "schema": [
        {
         "metadata": "{}",
         "name": "authors",
         "type": "\"string\""
        },
        {
         "metadata": "{\"__autoGeneratedAlias\":\"true\"}",
         "name": "count(title)",
         "type": "\"long\""
        },
        {
         "metadata": "{}",
         "name": "title",
         "type": "\"string\""
        },
        {
         "metadata": "{}",
         "name": "publication_date",
         "type": "\"string\""
        }
       ],
       "type": "table"
      }
     },
     "output_type": "display_data"
    }
   ],
   "source": [
    "# How many books did Dan Brown publish? # all books published by Dan Brown (even as co-author) # author, book_title, publication_date\n",
    "Dan_Brown = spark.sql(\n",
    "    \"\"\"\n",
    "   SELECT authors,count(title),title, publication_date\n",
    "    FROM books_tbl\n",
    "    WHERE authors like '%Dan Brown%'\n",
    "    group by authors, title, publication_date\n",
    "    order by authors, title, publication_date desc\n",
    " \"\"\"\n",
    ").display()\n"
   ]
  },
  {
   "cell_type": "code",
   "execution_count": 0,
   "metadata": {
    "application/vnd.databricks.v1+cell": {
     "cellMetadata": {
      "byteLimit": 2048000,
      "rowLimit": 10000
     },
     "inputWidgets": {},
     "nuid": "07c22da7-acb7-467f-90cf-c655d67e38d9",
     "showTitle": false,
     "title": ""
    }
   },
   "outputs": [
    {
     "output_type": "display_data",
     "data": {
      "text/html": [
       "<style scoped>\n",
       "  .table-result-container {\n",
       "    max-height: 300px;\n",
       "    overflow: auto;\n",
       "  }\n",
       "  table, th, td {\n",
       "    border: 1px solid black;\n",
       "    border-collapse: collapse;\n",
       "  }\n",
       "  th, td {\n",
       "    padding: 5px;\n",
       "  }\n",
       "  th {\n",
       "    text-align: left;\n",
       "  }\n",
       "</style><div class='table-result-container'><table class='table-result'><thead style='background-color: white'><tr><th>book_title</th><th>text_reviews_count</th></tr></thead><tbody><tr><td>Twilight (Twilight  #1)</td><td>94265</td></tr></tbody></table></div>"
      ]
     },
     "metadata": {
      "application/vnd.databricks.v1+output": {
       "addedWidgets": {},
       "aggData": [],
       "aggError": "",
       "aggOverflow": false,
       "aggSchema": [],
       "aggSeriesLimitReached": false,
       "aggType": "",
       "arguments": {},
       "columnCustomDisplayInfos": {},
       "data": [
        [
         "Twilight (Twilight  #1)",
         94265
        ]
       ],
       "datasetInfos": [],
       "dbfsResultPath": null,
       "isJsonSchema": true,
       "metadata": {},
       "overflow": false,
       "plotOptions": {
        "customPlotOptions": {},
        "displayType": "table",
        "pivotAggregation": null,
        "pivotColumns": null,
        "xColumns": null,
        "yColumns": null
       },
       "removedWidgets": [],
       "schema": [
        {
         "metadata": "{}",
         "name": "book_title",
         "type": "\"string\""
        },
        {
         "metadata": "{}",
         "name": "text_reviews_count",
         "type": "\"integer\""
        }
       ],
       "type": "table"
      }
     },
     "output_type": "display_data"
    }
   ],
   "source": [
    "# which book had highest text_reviews_count? # book_tile, text_reviews_count\n",
    "text_reviews = spark.sql(\"\"\"\n",
    "    SELECT title as book_title, text_reviews_count\n",
    "    FROM books_tbl\n",
    "    WHERE text_reviews_count = (\n",
    "        SELECT MAX(text_reviews_count)\n",
    "        FROM books_tbl\n",
    "    )\n",
    "\"\"\").display()"
   ]
  }
 ],
 "metadata": {
  "application/vnd.databricks.v1+notebook": {
   "dashboards": [],
   "language": "python",
   "notebookMetadata": {
    "mostRecentlyExecutedCommandWithImplicitDF": {
     "commandId": -1,
     "dataframes": [
      "_sqldf"
     ]
    },
    "pythonIndentUnit": 4
   },
   "notebookName": "Day 1 Project",
   "widgets": {}
  }
 },
 "nbformat": 4,
 "nbformat_minor": 0
}
